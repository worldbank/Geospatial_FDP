{
 "cells": [
  {
   "cell_type": "code",
   "execution_count": 185,
   "metadata": {},
   "outputs": [],
   "source": [
    "import sys, os, importlib, requests, json, traceback\n",
    "from datetime import datetime\n",
    "from pathlib import Path\n",
    "from shapely.geometry import box\n",
    "import rasterio\n",
    "from rasterstats import zonal_stats\n",
    "import GOSTRocks.rasterMisc as rMisc\n",
    "\n",
    "import random\n",
    "import pandas as pd\n",
    "import numpy as np\n",
    "import geopandas as gpd\n",
    "\n",
    "import warnings\n",
    "warnings.simplefilter(action='ignore')"
   ]
  },
  {
   "cell_type": "markdown",
   "metadata": {},
   "source": [
    "# Setup"
   ]
  },
  {
   "cell_type": "markdown",
   "metadata": {},
   "source": [
    "## Data directories"
   ]
  },
  {
   "cell_type": "code",
   "execution_count": 120,
   "metadata": {},
   "outputs": [],
   "source": [
    "CWD = Path.cwd()\n",
    "DATA_DIR = CWD.joinpath('data')\n",
    "bld_cnts = \"../data/AOIs/DRC/health_zone_building_counts.csv\"\n",
    "zones_geojson = \"../data/AOIs/DRC/health_zones_selected.geojson\"\n",
    "pop = \"../data/AOIs/DRC/GHS_POP_wgs84.tif\"\n",
    "urb_classes_file = \"../data/AOIs/DRC/GHS_SMOD_wgs84.tif\"\n",
    "osm_bld = \"../data/AOIs/DRC/gis_osm_buildings_a_free_1.shp\""
   ]
  },
  {
   "cell_type": "code",
   "execution_count": 104,
   "metadata": {},
   "outputs": [],
   "source": [
    "df_zones = gpd.read_file(zones_geojson)\n",
    "df_bld_cnts = pd.read_csv(bld_cnts)"
   ]
  },
  {
   "cell_type": "code",
   "execution_count": 17,
   "metadata": {},
   "outputs": [],
   "source": [
    "dfz = df_zones.merge(df_bld_cnts[['Health_Zone', 'gBuildings']], on='Health_Zone', how='inner', indicator=True)"
   ]
  },
  {
   "cell_type": "markdown",
   "metadata": {
    "tags": []
   },
   "source": [
    "# Get population of each zone"
   ]
  },
  {
   "cell_type": "code",
   "execution_count": 43,
   "metadata": {},
   "outputs": [],
   "source": [
    "src = rasterio.open(pop)\n",
    "res = rMisc.zonalStats(inShp=dfz, inRaster=src)"
   ]
  },
  {
   "cell_type": "code",
   "execution_count": 44,
   "metadata": {},
   "outputs": [],
   "source": [
    "dfz['pop'] = [i[0] for i in res]"
   ]
  },
  {
   "cell_type": "markdown",
   "metadata": {},
   "source": [
    "# Get urbanization classes"
   ]
  },
  {
   "cell_type": "code",
   "execution_count": 106,
   "metadata": {},
   "outputs": [],
   "source": [
    "urb_classes = [10, 11, 12, 13, 21, 22, 23, 30]\n",
    "#stats = zonal_stats(bld_geojson, urb_class, geojson_out=True, categorical=True, stats=['majority'])\n",
    "urb_stats = zonal_stats(zones_geojson, urb_classes_file, geojson_out=True, categorical=True)"
   ]
  },
  {
   "cell_type": "code",
   "execution_count": 110,
   "metadata": {},
   "outputs": [],
   "source": [
    "urb_res = []\n",
    "\n",
    "for i in urb_stats:\n",
    "    data_item = {'Health_Zone': i['properties']['Health_Zone']}\n",
    "    s = {}\n",
    "    for c in urb_classes:\n",
    "        s[c] = i['properties'].get(c, 0)\n",
    "    \n",
    "    tot_pixels = np.sum(list(s.values()))\n",
    "    prop_11 = s.get(11)/tot_pixels\n",
    "    s_sorted =  sorted(s.items(), key=lambda x: x[1], reverse=True)\n",
    "    data_item.update({'first_urb': s_sorted[0][0]})\n",
    "    data_item.update({'second_urb': s_sorted[1][0]})\n",
    "    data_item.update({'third_urb': s_sorted[2][0]})\n",
    "    data_item.update({'prop11': prop_11})\n",
    "    urb_res.append(data_item)"
   ]
  },
  {
   "cell_type": "code",
   "execution_count": 111,
   "metadata": {},
   "outputs": [],
   "source": [
    "df = pd.DataFrame(urb_res)"
   ]
  },
  {
   "cell_type": "code",
   "execution_count": 115,
   "metadata": {},
   "outputs": [],
   "source": [
    "dfz.drop(columns=['_merge'], inplace=True)\n",
    "df_zones = dfz.merge(df, on='Health_Zone', how='inner', indicator=True)"
   ]
  },
  {
   "cell_type": "code",
   "execution_count": null,
   "metadata": {},
   "outputs": [],
   "source": [
    "df_zones.sort_values(by='prop11', ascending=True)[['Health_Zone', 'gBuildings', 'pop', 'prop11']]"
   ]
  },
  {
   "cell_type": "markdown",
   "metadata": {},
   "source": [
    "# Get OSM buildings count"
   ]
  },
  {
   "cell_type": "code",
   "execution_count": 128,
   "metadata": {},
   "outputs": [],
   "source": [
    "dfb = gpd.read_file(osm_bld)\n",
    "df_zones_bld = gpd.sjoin(left_df=df_zones, right_df=dfb, how='left', predicate='contains')"
   ]
  },
  {
   "cell_type": "code",
   "execution_count": 140,
   "metadata": {},
   "outputs": [],
   "source": [
    "df_zones_bld_grp = df_zones_bld.groupby(['Health_Zone']).size().reset_index()\n",
    "df_zones_bld_grp.rename(columns={0: 'osmBuildings'}, inplace=True)"
   ]
  },
  {
   "cell_type": "code",
   "execution_count": 162,
   "metadata": {},
   "outputs": [],
   "source": [
    "#df_zones.drop(columns=['_merge'], inplace=True)\n",
    "df_zones2 = df_zones.merge(df_zones_bld_grp, on='Health_Zone', how='inner', indicator=True)"
   ]
  },
  {
   "cell_type": "code",
   "execution_count": 163,
   "metadata": {},
   "outputs": [],
   "source": [
    "df_zones2.drop(columns=['_merge'], inplace=True)"
   ]
  },
  {
   "cell_type": "code",
   "execution_count": 164,
   "metadata": {},
   "outputs": [],
   "source": [
    "df_zones2['bldToCapture'] = df_zones2.apply(lambda x: (x['gBuildings'] - x['osmBuildings']), axis=1)\n",
    "df_zones2['bldToCaptureProp'] = df_zones2.apply(lambda x: (x['gBuildings'] - x['osmBuildings'])/x['gBuildings'], axis=1)"
   ]
  },
  {
   "cell_type": "code",
   "execution_count": 166,
   "metadata": {},
   "outputs": [
    {
     "data": {
      "text/html": [
       "<div>\n",
       "<style scoped>\n",
       "    .dataframe tbody tr th:only-of-type {\n",
       "        vertical-align: middle;\n",
       "    }\n",
       "\n",
       "    .dataframe tbody tr th {\n",
       "        vertical-align: top;\n",
       "    }\n",
       "\n",
       "    .dataframe thead th {\n",
       "        text-align: right;\n",
       "    }\n",
       "</style>\n",
       "<table border=\"1\" class=\"dataframe\">\n",
       "  <thead>\n",
       "    <tr style=\"text-align: right;\">\n",
       "      <th></th>\n",
       "      <th>Health_Zone</th>\n",
       "      <th>gBuildings</th>\n",
       "      <th>pop</th>\n",
       "      <th>prop11</th>\n",
       "      <th>osmBuildings</th>\n",
       "      <th>bldToCapture</th>\n",
       "      <th>bldToCaptureProp</th>\n",
       "    </tr>\n",
       "  </thead>\n",
       "  <tbody>\n",
       "    <tr>\n",
       "      <th>13</th>\n",
       "      <td>Luambo</td>\n",
       "      <td>58899</td>\n",
       "      <td>244753.405219</td>\n",
       "      <td>0.937890</td>\n",
       "      <td>11</td>\n",
       "      <td>58888</td>\n",
       "      <td>0.999813</td>\n",
       "    </tr>\n",
       "    <tr>\n",
       "      <th>18</th>\n",
       "      <td>Mikalayi</td>\n",
       "      <td>63997</td>\n",
       "      <td>34393.212113</td>\n",
       "      <td>0.953910</td>\n",
       "      <td>53</td>\n",
       "      <td>63944</td>\n",
       "      <td>0.999172</td>\n",
       "    </tr>\n",
       "    <tr>\n",
       "      <th>8</th>\n",
       "      <td>Kamonia</td>\n",
       "      <td>64108</td>\n",
       "      <td>202753.278927</td>\n",
       "      <td>0.925674</td>\n",
       "      <td>48</td>\n",
       "      <td>64060</td>\n",
       "      <td>0.999251</td>\n",
       "    </tr>\n",
       "    <tr>\n",
       "      <th>4</th>\n",
       "      <td>Demba</td>\n",
       "      <td>72922</td>\n",
       "      <td>215078.384645</td>\n",
       "      <td>0.940010</td>\n",
       "      <td>5843</td>\n",
       "      <td>67079</td>\n",
       "      <td>0.919873</td>\n",
       "    </tr>\n",
       "    <tr>\n",
       "      <th>9</th>\n",
       "      <td>Kamwesha</td>\n",
       "      <td>82191</td>\n",
       "      <td>528143.184680</td>\n",
       "      <td>0.886568</td>\n",
       "      <td>22</td>\n",
       "      <td>82169</td>\n",
       "      <td>0.999732</td>\n",
       "    </tr>\n",
       "  </tbody>\n",
       "</table>\n",
       "</div>"
      ],
      "text/plain": [
       "   Health_Zone  gBuildings            pop    prop11  osmBuildings  \\\n",
       "13      Luambo       58899  244753.405219  0.937890            11   \n",
       "18    Mikalayi       63997   34393.212113  0.953910            53   \n",
       "8      Kamonia       64108  202753.278927  0.925674            48   \n",
       "4        Demba       72922  215078.384645  0.940010          5843   \n",
       "9     Kamwesha       82191  528143.184680  0.886568            22   \n",
       "\n",
       "    bldToCapture  bldToCaptureProp  \n",
       "13         58888          0.999813  \n",
       "18         63944          0.999172  \n",
       "8          64060          0.999251  \n",
       "4          67079          0.919873  \n",
       "9          82169          0.999732  "
      ]
     },
     "execution_count": 166,
     "metadata": {},
     "output_type": "execute_result"
    }
   ],
   "source": [
    "df_zones2.sort_values(by='bldToCapture', ascending=True)[['Health_Zone', 'gBuildings', 'pop', 'prop11', 'osmBuildings', 'bldToCapture', 'bldToCaptureProp']].tail(5)"
   ]
  },
  {
   "cell_type": "markdown",
   "metadata": {},
   "source": [
    "# Add scores"
   ]
  },
  {
   "cell_type": "code",
   "execution_count": 167,
   "metadata": {},
   "outputs": [],
   "source": [
    "# prioritize bassed on buildings: the highesst rank given to zones with highest number proportion of buildings to capture\n",
    "df_bld_score = df_zones2.sort_values(by='bldToCaptureProp', ascending=False)\n",
    "df_bld_score ['bld_score'] = [i for i in range(1, len(df_bld_score)+1)]\n",
    "\n",
    "# prioritize bassed on population: zones with large populaiton receive higher score \n",
    "df_pop_score = df_bld_score.sort_values(by='pop', ascending=False)\n",
    "df_pop_score ['pop_score'] = [i for i in range(1, len(df_pop_score)+1)]\n",
    "\n",
    "\n",
    "# prioritize bassed on population: zones with large populaiton receive higher score \n",
    "df_urb_score = df_pop_score.sort_values(by='prop11', ascending=True)\n",
    "df_urb_score ['urb_score'] = [i for i in range(1, len(df_urb_score)+1)]\n",
    "\n",
    "# overral score-since the score 1 is associated with higher rank, we sort in ascending order to find which zones to focus on\n",
    "df_urb_score['agg_score'] = df_urb_score['bld_score'] + df_urb_score['pop_score'] + df_urb_score['urb_score']"
   ]
  },
  {
   "cell_type": "markdown",
   "metadata": {},
   "source": [
    "# Remove zones which are being worked on now and sort by aggregate score"
   ]
  },
  {
   "cell_type": "code",
   "execution_count": 178,
   "metadata": {},
   "outputs": [],
   "source": [
    "# Remove zones which are being worked on now\n",
    "exclude = ['Demba', 'Mutoto', 'Bena Tshiadi', 'Yangala', 'Mutena']\n",
    "#include_zones = list(set(df_urb_score.Health_Zone.unique()) - set(exclude))\n",
    "df_scored_zones = df_urb_score[~df_urb_score['Health_Zone'].isin(exclud_zones)]"
   ]
  },
  {
   "cell_type": "code",
   "execution_count": 180,
   "metadata": {
    "tags": []
   },
   "outputs": [],
   "source": [
    "df_scored_zones.sort_values(by='agg_score', ascending=True, inplace=True)"
   ]
  },
  {
   "cell_type": "code",
   "execution_count": 183,
   "metadata": {},
   "outputs": [],
   "source": [
    "# add cumulative buildings to capture in each zone\n",
    "df_scored_zones['cumBldToCapture'] = df_scored_zones.bldToCapture.cumsum()"
   ]
  },
  {
   "cell_type": "code",
   "execution_count": 186,
   "metadata": {},
   "outputs": [],
   "source": [
    "# Save this file\n",
    "out_shp = \"../data/AOIs/DRC/zone_ranks.shp\"\n",
    "df_scored_zones.to_file(out_shp, driver = 'ESRI Shapefile')\n",
    "out_csv = \"../data/AOIs/DRC/zone_ranks.csv\"\n",
    "df_scored_zones.drop(columns=['geometry'], inplace=True)\n",
    "df_scored_zones.to_csv(out_csv, index=False)"
   ]
  },
  {
   "cell_type": "code",
   "execution_count": null,
   "metadata": {
    "hidden": true
   },
   "outputs": [],
   "source": [
    "def min_above_threshold(x):\n",
    "    try:\n",
    "        min_val = np.min(x[x > NTL_VAL_THRESHOLD])\n",
    "    except:\n",
    "        min_val = np.NaN\n",
    "        pass\n",
    "    return min_val"
   ]
  },
  {
   "cell_type": "code",
   "execution_count": null,
   "metadata": {
    "hidden": true
   },
   "outputs": [],
   "source": [
    "def mean_above_threshold(x):\n",
    "    try:\n",
    "        return np.mean(x[x > NTL_VAL_THRESHOLD])\n",
    "    except:\n",
    "        return np.NaN"
   ]
  },
  {
   "cell_type": "code",
   "execution_count": null,
   "metadata": {
    "hidden": true
   },
   "outputs": [],
   "source": [
    "def median_above_threshold(x):\n",
    "    try:\n",
    "        return np.median(x[x > NTL_VAL_THRESHOLD])\n",
    "    except:\n",
    "        return np.NaN"
   ]
  },
  {
   "cell_type": "code",
   "execution_count": null,
   "metadata": {
    "hidden": true
   },
   "outputs": [],
   "source": [
    "def sum_above_threshold(x):\n",
    "    try:\n",
    "        return np.sum(x[x > NTL_VAL_THRESHOLD])\n",
    "    except:\n",
    "        return np.NaN"
   ]
  },
  {
   "cell_type": "code",
   "execution_count": null,
   "metadata": {
    "hidden": true
   },
   "outputs": [],
   "source": [
    "def sum25(x):\n",
    "    try:\n",
    "        return np.sum(x[x > 0.25])\n",
    "    except:\n",
    "        return np.NaN"
   ]
  },
  {
   "cell_type": "code",
   "execution_count": null,
   "metadata": {
    "hidden": true
   },
   "outputs": [],
   "source": [
    "def sum5(x):\n",
    "    try:\n",
    "        return np.sum(x[x > 0.5])\n",
    "    except:\n",
    "        return np.NaN"
   ]
  },
  {
   "cell_type": "code",
   "execution_count": null,
   "metadata": {
    "hidden": true
   },
   "outputs": [],
   "source": [
    "def sum75(x):\n",
    "    try:\n",
    "        return np.sum(x[x > 0.75])\n",
    "    except:\n",
    "        return np.NaN"
   ]
  },
  {
   "cell_type": "code",
   "execution_count": null,
   "metadata": {
    "hidden": true
   },
   "outputs": [],
   "source": [
    "def sum1(x):\n",
    "    try:\n",
    "        return np.sum(x[x > 1])\n",
    "    except:\n",
    "        return np.NaN"
   ]
  }
 ],
 "metadata": {
  "kernelspec": {
   "display_name": "Python 3 (ipykernel)",
   "language": "python",
   "name": "python3"
  },
  "language_info": {
   "codemirror_mode": {
    "name": "ipython",
    "version": 3
   },
   "file_extension": ".py",
   "mimetype": "text/x-python",
   "name": "python",
   "nbconvert_exporter": "python",
   "pygments_lexer": "ipython3",
   "version": "3.9.7"
  },
  "toc": {
   "base_numbering": 1,
   "nav_menu": {},
   "number_sections": true,
   "sideBar": true,
   "skip_h1_title": false,
   "title_cell": "Table of Contents",
   "title_sidebar": "Contents",
   "toc_cell": false,
   "toc_position": {},
   "toc_section_display": true,
   "toc_window_display": false
  },
  "toc-autonumbering": true,
  "toc-showmarkdowntxt": false,
  "toc-showtags": true
 },
 "nbformat": 4,
 "nbformat_minor": 4
}
